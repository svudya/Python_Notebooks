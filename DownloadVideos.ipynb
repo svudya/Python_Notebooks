{
 "cells": [
  {
   "cell_type": "code",
   "execution_count": 1,
   "metadata": {
    "collapsed": true,
    "deletable": true,
    "editable": true
   },
   "outputs": [],
   "source": [
    "import requests\n",
    "import os, sys\n",
    "from bs4 import BeautifulSoup"
   ]
  },
  {
   "cell_type": "markdown",
   "metadata": {
    "deletable": true,
    "editable": true
   },
   "source": [
    "URL of the archive web-page which provides link to all video lectures. \n",
    "It would have been tiring to download each video manually.\n",
    "In this example, we first crawl the webpage to extract all the links and then download videos."
   ]
  },
  {
   "cell_type": "code",
   "execution_count": 2,
   "metadata": {
    "collapsed": true,
    "deletable": true,
    "editable": true
   },
   "outputs": [],
   "source": [
    "archive_url = \"http://79.127.126.110/Serial/The%20Big%20Bang%20Theory/S06/\""
   ]
  },
  {
   "cell_type": "code",
   "execution_count": 3,
   "metadata": {
    "collapsed": true,
    "deletable": true,
    "editable": true
   },
   "outputs": [],
   "source": [
    "download_loc = '/Users/saideepak/Downloads/Bigbangtheory/'"
   ]
  },
  {
   "cell_type": "code",
   "execution_count": 4,
   "metadata": {
    "collapsed": true,
    "deletable": true,
    "editable": true
   },
   "outputs": [],
   "source": [
    "def get_video_links():\n",
    "\n",
    "    # create response object\n",
    "    r = requests.get(archive_url)\n",
    "\n",
    "    # create beautiful-soup object\n",
    "    soup = BeautifulSoup(r.content, 'html5lib')\n",
    "\n",
    "    # find all links on web-page\n",
    "    links = soup.findAll('a')\n",
    "\n",
    "    # filter the link sending with .mp4\n",
    "    video_links = [archive_url + link['href']\n",
    "                   for link in links if link['href'].endswith('480p.mkv')]\n",
    "\n",
    "    return video_links"
   ]
  },
  {
   "cell_type": "code",
   "execution_count": 5,
   "metadata": {
    "collapsed": true,
    "deletable": true,
    "editable": true
   },
   "outputs": [],
   "source": [
    "def download_video_series(video_links):\n",
    "\n",
    "    for link in video_links:\n",
    "\n",
    "        '''iterate through all links in video_links\n",
    "        and download them one by one'''\n",
    "\n",
    "        # obtain filename by splitting url and getting\n",
    "        # last string\n",
    "        file_name = link.split('/')[-1]\n",
    "        print \"Getting file:%s\" % file_name\n",
    "        file_loc = os.path.join(download_loc, file_name)\n",
    "        print file_loc\n",
    "        if os.path.exists(file_loc):\n",
    "            print \"File exists already: %s\" % file_name\n",
    "        else:\n",
    "            # create response object\n",
    "            response = requests.get(link, stream=True)\n",
    "            total_length = response.headers.get('content-length')\n",
    "            print \"Downloading file:%s\" % file_name\n",
    "            # download started\n",
    "            try:\n",
    "                with open(file_loc, 'wb') as f:\n",
    "                    downloaded = 0\n",
    "                    total_length = int(total_length)\n",
    "                    for chunk in response.iter_content(chunk_size=1024 * 1024):\n",
    "                        downloaded += len(chunk)\n",
    "                        if chunk:\n",
    "                            f.write(chunk)\n",
    "                            done = int(50 * downloaded / total_length)\n",
    "                            sys.stdout.write(\"\\r[%s%s%s]\" % (\n",
    "                                '=' * (done-1),'>',' ' * (50 - done)))\n",
    "                            sys.stdout.flush()\n",
    "            except Exception as error:\n",
    "                print error\n",
    "            sys.stdout.write(\"\\n\")\n",
    "            print \"%s downloaded!\\n\" % file_name\n",
    "\n",
    "    print \"All videos downloaded!\"\n",
    "    return"
   ]
  },
  {
   "cell_type": "code",
   "execution_count": 6,
   "metadata": {
    "collapsed": false,
    "deletable": true,
    "editable": true
   },
   "outputs": [
    {
     "name": "stdout",
     "output_type": "stream",
     "text": [
      "Getting file:The.Big.Bang.Theory.S06E01.480p.mkv\n",
      "/Users/saideepak/Downloads/Bigbangtheory/The.Big.Bang.Theory.S06E01.480p.mkv\n",
      "File exists already: The.Big.Bang.Theory.S06E01.480p.mkv\n",
      "Getting file:The.Big.Bang.Theory.S06E02.480p.mkv\n",
      "/Users/saideepak/Downloads/Bigbangtheory/The.Big.Bang.Theory.S06E02.480p.mkv\n",
      "File exists already: The.Big.Bang.Theory.S06E02.480p.mkv\n",
      "Getting file:The.Big.Bang.Theory.S06E03.480p.mkv\n",
      "/Users/saideepak/Downloads/Bigbangtheory/The.Big.Bang.Theory.S06E03.480p.mkv\n",
      "File exists already: The.Big.Bang.Theory.S06E03.480p.mkv\n",
      "Getting file:The.Big.Bang.Theory.S06E04.480p.mkv\n",
      "/Users/saideepak/Downloads/Bigbangtheory/The.Big.Bang.Theory.S06E04.480p.mkv\n",
      "File exists already: The.Big.Bang.Theory.S06E04.480p.mkv\n",
      "Getting file:The.Big.Bang.Theory.S06E05.480p.mkv\n",
      "/Users/saideepak/Downloads/Bigbangtheory/The.Big.Bang.Theory.S06E05.480p.mkv\n",
      "File exists already: The.Big.Bang.Theory.S06E05.480p.mkv\n",
      "Getting file:The.Big.Bang.Theory.S06E06.480p.mkv\n",
      "/Users/saideepak/Downloads/Bigbangtheory/The.Big.Bang.Theory.S06E06.480p.mkv\n",
      "File exists already: The.Big.Bang.Theory.S06E06.480p.mkv\n",
      "Getting file:The.Big.Bang.Theory.S06E07.480p.mkv\n",
      "/Users/saideepak/Downloads/Bigbangtheory/The.Big.Bang.Theory.S06E07.480p.mkv\n",
      "File exists already: The.Big.Bang.Theory.S06E07.480p.mkv\n",
      "Getting file:The.Big.Bang.Theory.S06E08.480p.mkv\n",
      "/Users/saideepak/Downloads/Bigbangtheory/The.Big.Bang.Theory.S06E08.480p.mkv\n",
      "File exists already: The.Big.Bang.Theory.S06E08.480p.mkv\n",
      "Getting file:The.Big.Bang.Theory.S06E09.480p.mkv\n",
      "/Users/saideepak/Downloads/Bigbangtheory/The.Big.Bang.Theory.S06E09.480p.mkv\n",
      "File exists already: The.Big.Bang.Theory.S06E09.480p.mkv\n",
      "Getting file:The.Big.Bang.Theory.S06E10.480p.mkv\n",
      "/Users/saideepak/Downloads/Bigbangtheory/The.Big.Bang.Theory.S06E10.480p.mkv\n",
      "File exists already: The.Big.Bang.Theory.S06E10.480p.mkv\n",
      "Getting file:The.Big.Bang.Theory.S06E11.480p.mkv\n",
      "/Users/saideepak/Downloads/Bigbangtheory/The.Big.Bang.Theory.S06E11.480p.mkv\n",
      "File exists already: The.Big.Bang.Theory.S06E11.480p.mkv\n",
      "Getting file:The.Big.Bang.Theory.S06E12.480p.mkv\n",
      "/Users/saideepak/Downloads/Bigbangtheory/The.Big.Bang.Theory.S06E12.480p.mkv\n",
      "File exists already: The.Big.Bang.Theory.S06E12.480p.mkv\n",
      "Getting file:The.Big.Bang.Theory.S06E13.480p.mkv\n",
      "/Users/saideepak/Downloads/Bigbangtheory/The.Big.Bang.Theory.S06E13.480p.mkv\n",
      "File exists already: The.Big.Bang.Theory.S06E13.480p.mkv\n",
      "Getting file:The.Big.Bang.Theory.S06E14.480p.mkv\n",
      "/Users/saideepak/Downloads/Bigbangtheory/The.Big.Bang.Theory.S06E14.480p.mkv\n",
      "File exists already: The.Big.Bang.Theory.S06E14.480p.mkv\n",
      "Getting file:The.Big.Bang.Theory.S06E15.480p.mkv\n",
      "/Users/saideepak/Downloads/Bigbangtheory/The.Big.Bang.Theory.S06E15.480p.mkv\n",
      "File exists already: The.Big.Bang.Theory.S06E15.480p.mkv\n",
      "Getting file:The.Big.Bang.Theory.S06E16.480p.mkv\n",
      "/Users/saideepak/Downloads/Bigbangtheory/The.Big.Bang.Theory.S06E16.480p.mkv\n",
      "File exists already: The.Big.Bang.Theory.S06E16.480p.mkv\n",
      "Getting file:The.Big.Bang.Theory.S06E17.480p.mkv\n",
      "/Users/saideepak/Downloads/Bigbangtheory/The.Big.Bang.Theory.S06E17.480p.mkv\n",
      "File exists already: The.Big.Bang.Theory.S06E17.480p.mkv\n",
      "Getting file:The.Big.Bang.Theory.S06E18.480p.mkv\n",
      "/Users/saideepak/Downloads/Bigbangtheory/The.Big.Bang.Theory.S06E18.480p.mkv\n",
      "File exists already: The.Big.Bang.Theory.S06E18.480p.mkv\n",
      "Getting file:The.Big.Bang.Theory.S06E19.480p.mkv\n",
      "/Users/saideepak/Downloads/Bigbangtheory/The.Big.Bang.Theory.S06E19.480p.mkv\n",
      "File exists already: The.Big.Bang.Theory.S06E19.480p.mkv\n",
      "Getting file:The.Big.Bang.Theory.S06E20.480p.mkv\n",
      "/Users/saideepak/Downloads/Bigbangtheory/The.Big.Bang.Theory.S06E20.480p.mkv\n",
      "File exists already: The.Big.Bang.Theory.S06E20.480p.mkv\n",
      "Getting file:The.Big.Bang.Theory.S06E21.480p.mkv\n",
      "/Users/saideepak/Downloads/Bigbangtheory/The.Big.Bang.Theory.S06E21.480p.mkv\n",
      "File exists already: The.Big.Bang.Theory.S06E21.480p.mkv\n",
      "Getting file:The.Big.Bang.Theory.S06E22.480p.mkv\n",
      "/Users/saideepak/Downloads/Bigbangtheory/The.Big.Bang.Theory.S06E22.480p.mkv\n",
      "File exists already: The.Big.Bang.Theory.S06E22.480p.mkv\n",
      "Getting file:The.Big.Bang.Theory.S06E23.480p.mkv\n",
      "/Users/saideepak/Downloads/Bigbangtheory/The.Big.Bang.Theory.S06E23.480p.mkv\n",
      "File exists already: The.Big.Bang.Theory.S06E23.480p.mkv\n",
      "Getting file:The.Big.Bang.Theory.S06E24.480p.mkv\n",
      "/Users/saideepak/Downloads/Bigbangtheory/The.Big.Bang.Theory.S06E24.480p.mkv\n",
      "File exists already: The.Big.Bang.Theory.S06E24.480p.mkv\n",
      "All videos downloaded!\n"
     ]
    }
   ],
   "source": [
    "if __name__ == \"__main__\":\n",
    "\n",
    "    # getting all video links\n",
    "    video_links = get_video_links()\n",
    "    # print video_links\n",
    "\n",
    "    # download all videos\n",
    "    download_video_series(video_links)"
   ]
  }
 ],
 "metadata": {
  "kernelspec": {
   "display_name": "Python 2",
   "language": "python",
   "name": "python2"
  },
  "language_info": {
   "codemirror_mode": {
    "name": "ipython",
    "version": 2
   },
   "file_extension": ".py",
   "mimetype": "text/x-python",
   "name": "python",
   "nbconvert_exporter": "python",
   "pygments_lexer": "ipython2",
   "version": "2.7.10"
  }
 },
 "nbformat": 4,
 "nbformat_minor": 2
}
